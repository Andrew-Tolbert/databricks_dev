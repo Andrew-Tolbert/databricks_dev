{
 "cells": [
  {
   "cell_type": "code",
   "execution_count": 0,
   "metadata": {
    "application/vnd.databricks.v1+cell": {
     "cellMetadata": {
      "byteLimit": 10485760,
      "rowLimit": 64000
     },
     "inputWidgets": {},
     "nuid": "57a69d3e-bb3c-4f78-9ccc-9692fcb4a08b",
     "showTitle": false,
     "title": ""
    }
   },
   "outputs": [],
   "source": [
    "select statement_text, statement_type \n",
    "from system.query.history \n",
    "where statement_type = :type_param\n",
    "and (\n",
    "  lower(statement_text) like '%create table%' \n",
    "  AND lower(statement_text) not like '%--create table%' \n",
    "  AND lower(statement_text) not like '%-- create table%')"
   ]
  }
 ],
 "metadata": {
  "application/vnd.databricks.v1+notebook": {
   "dashboards": [],
   "environmentMetadata": null,
   "language": "sql",
   "notebookMetadata": {
    "pythonIndentUnit": 2,
    "sqlQueryOptions": {
     "applyAutoLimit": false,
     "catalog": "system",
     "schema": "query"
    }
   },
   "notebookName": "git_integration_test.dbquery.dbquery.ipynb",
   "widgets": {
    "param_2": {
     "currentValue": "",
     "nuid": "e984a10f-1eaa-4abc-8144-356e43172583",
     "typedWidgetInfo": {
      "autoCreated": false,
      "defaultValue": "",
      "label": null,
      "name": "param_2",
      "options": {
       "widgetDisplayType": "Text",
       "validationRegex": null
      },
      "parameterDataType": "String"
     },
     "widgetInfo": {
      "widgetType": "text",
      "defaultValue": "",
      "label": null,
      "name": "param_2",
      "options": {
       "widgetType": "text",
       "autoCreated": false,
       "validationRegex": null
      }
     }
    },
    "type_param": {
     "currentValue": "EXPLAIN",
     "nuid": "1e870acd-dd00-46b1-8b5d-1f001a70d1f7",
     "typedWidgetInfo": {
      "autoCreated": false,
      "defaultValue": "EXPLAIN",
      "label": "",
      "name": "type_param",
      "options": {
       "widgetDisplayType": "Dropdown",
       "choices": [
        "EXPLAIN",
        "SELECT"
       ],
       "fixedDomain": true,
       "multiselect": false
      },
      "parameterDataType": "String"
     },
     "widgetInfo": {
      "widgetType": "dropdown",
      "defaultValue": "EXPLAIN",
      "label": "",
      "name": "type_param",
      "options": {
       "widgetType": "dropdown",
       "autoCreated": false,
       "choices": [
        "EXPLAIN",
        "SELECT"
       ]
      }
     }
    }
   }
  }
 },
 "nbformat": 4,
 "nbformat_minor": 0
}
