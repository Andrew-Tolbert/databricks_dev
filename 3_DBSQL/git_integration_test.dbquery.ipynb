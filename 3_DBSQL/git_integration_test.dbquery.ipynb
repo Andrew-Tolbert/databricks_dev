{
 "cells": [
  {
   "cell_type": "code",
   "execution_count": 0,
   "metadata": {
    "application/vnd.databricks.v1+cell": {
     "cellMetadata": {},
     "inputWidgets": {},
     "nuid": "57a69d3e-bb3c-4f78-9ccc-9692fcb4a08b",
     "showTitle": false,
     "title": ""
    }
   },
   "outputs": [],
   "source": [
    "select statement_text, statement_type \n",
    "from system.query.history \n",
    "where statement_type = {{ type }}\n",
    "and (\n",
    "  lower(statement_text) like '%create table%' \n",
    "  AND lower(statement_text) not like '%--create table%' \n",
    "  AND lower(statement_text) not like '%-- create table%')"
   ]
  }
 ],
 "metadata": {
  "application/vnd.databricks.v1+notebook": {
   "dashboards": [],
   "environmentMetadata": null,
   "language": "sql",
   "notebookMetadata": {
    "pythonIndentUnit": 2,
    "sqlQueryOptions": {
     "applyAutoLimit": true,
     "catalog": "test",
     "schema": "default"
    }
   },
   "notebookName": "git_integration_test.dbquery.ipynb",
   "widgets": {}
  }
 },
 "nbformat": 4,
 "nbformat_minor": 0
}
