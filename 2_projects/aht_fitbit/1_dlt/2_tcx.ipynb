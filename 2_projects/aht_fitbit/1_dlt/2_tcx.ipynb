{
 "cells": [
  {
   "cell_type": "code",
   "execution_count": 0,
   "metadata": {
    "application/vnd.databricks.v1+cell": {
     "cellMetadata": {
      "byteLimit": 2048000,
      "rowLimit": 10000
     },
     "inputWidgets": {},
     "nuid": "040bb280-3856-4c9b-9324-910541f8f3da",
     "showTitle": false,
     "tableResultSettingsMap": {},
     "title": ""
    }
   },
   "outputs": [],
   "source": [
    "#dbutils.fs.rm('s3://one-env-uc-external-location/aht-sa/ext-data',True)\n",
    "#display(dbutils.fs.ls('s3://one-env-uc-external-location/aht-sa/ext-data'))"
   ]
  },
  {
   "cell_type": "code",
   "execution_count": 0,
   "metadata": {
    "application/vnd.databricks.v1+cell": {
     "cellMetadata": {
      "byteLimit": 2048000,
      "rowLimit": 10000
     },
     "inputWidgets": {},
     "nuid": "2c67236d-1d1f-4f2e-bb86-b753b90357fe",
     "showTitle": false,
     "tableResultSettingsMap": {},
     "title": ""
    }
   },
   "outputs": [],
   "source": [
    "from pyspark.sql.functions import explode, struct, from_json,col,first,arrays_zip,col,map_from_entries,expr\n",
    "catalog = 'ahtsa'\n",
    "schema = 'fitbit_workshop'\n",
    "vol = '/Volumes/ahtsa/fitbit/raw_fitbitapi'\n",
    "data_path = 's3://one-env-uc-external-location/aht-sa/ext-data'"
   ]
  },
  {
   "cell_type": "code",
   "execution_count": 0,
   "metadata": {
    "application/vnd.databricks.v1+cell": {
     "cellMetadata": {
      "byteLimit": 2048000,
      "implicitDf": true,
      "rowLimit": 10000
     },
     "inputWidgets": {},
     "nuid": "833ddb94-9e82-484c-b3e6-c8c9e3a53c90",
     "showTitle": false,
     "tableResultSettingsMap": {},
     "title": ""
    }
   },
   "outputs": [],
   "source": [
    "%sql\n",
    "use catalog ahtsa; \n",
    "use schema fitbit_workshop;"
   ]
  },
  {
   "cell_type": "code",
   "execution_count": 0,
   "metadata": {
    "application/vnd.databricks.v1+cell": {
     "cellMetadata": {
      "byteLimit": 2048000,
      "implicitDf": true,
      "rowLimit": 10000
     },
     "inputWidgets": {},
     "nuid": "b69f147c-fe53-4d34-80c1-8ce8e546bd4b",
     "showTitle": false,
     "tableResultSettingsMap": {},
     "title": ""
    }
   },
   "outputs": [],
   "source": [
    "%sql\n",
    "Select  activities_exploded.*\n",
    "FROM (SELECT EXPLODE(activities) AS activities_exploded \n",
    "FROM JSON.`/Volumes/ahtsa/fitbit/raw_fitbitapi/activitylog`\n",
    ")"
   ]
  },
  {
   "cell_type": "code",
   "execution_count": 0,
   "metadata": {
    "application/vnd.databricks.v1+cell": {
     "cellMetadata": {
      "byteLimit": 2048000,
      "implicitDf": true,
      "rowLimit": 10000
     },
     "inputWidgets": {},
     "nuid": "0e330bdc-764d-470d-a266-b4bc94c21cce",
     "showTitle": false,
     "tableResultSettingsMap": {},
     "title": ""
    }
   },
   "outputs": [],
   "source": [
    "%sql\n",
    "\n",
    "CREATE TABLE IF NOT EXISTS fitbit_workshop.bronze_activities\n",
    "LOCATION 's3://one-env-uc-external-location/aht-sa/ext-data/bronze_activities';\n",
    "\n",
    "COPY INTO fitbit_workshop.bronze_activities \n",
    "FROM (\n",
    "  SELECT EXPLODE(activities) AS activities_exploded FROM '/Volumes/ahtsa/fitbit/raw_fitbitapi/activitylog'\n",
    ")\n",
    "FILEFORMAT = JSON FORMAT_OPTIONS ('mergeSchema' = 'true') COPY_OPTIONS ('mergeSchema' = 'true')"
   ]
  },
  {
   "cell_type": "code",
   "execution_count": 0,
   "metadata": {
    "application/vnd.databricks.v1+cell": {
     "cellMetadata": {
      "byteLimit": 2048000,
      "rowLimit": 10000
     },
     "inputWidgets": {},
     "nuid": "099c3a12-48b8-470c-9520-5fa2de9e2d6c",
     "showTitle": false,
     "tableResultSettingsMap": {},
     "title": ""
    }
   },
   "outputs": [],
   "source": [
    "#silver load \n",
    "silver_df = (\n",
    "    spark.table('fitbit_workshop.bronze_activities').select('activities_exploded.*')\n",
    "    .distinct()\n",
    "    .withColumn(\n",
    "        \"activityLevelMap\",\n",
    "        map_from_entries(\n",
    "            expr(\"transform(activityLevel, x -> struct(x.name, x.minutes))\")\n",
    "        )\n",
    "    )\n",
    "    .withColumn(\n",
    "        \"heartRateZonesMap\",\n",
    "        map_from_entries(\n",
    "            expr(\"transform(heartRateZones, x -> struct(x.name, struct(x.caloriesOut, x.max, x.min, x.minutes)))\")\n",
    "        )\n",
    "    ).selectExpr(\n",
    "            \"logId\", \"startTime\",\"activityName\",\"steps\",\"speed\",\"pace\",\n",
    "            \"logType\",\"averageHeartRate\",\"calories\", \"distance\", \"distanceUnit\",\n",
    "            \"duration\",\"hasActiveZoneMinutes\",\"hasGps\",\n",
    "             \"activityLevelMap as activityLevels\", \n",
    "             \"heartRateZonesMap as heartRateZones\")\n",
    ")\n",
    "\n",
    "silver_df.write \\\n",
    "    .mode(\"overwrite\") \\\n",
    "    .option(\"path\", f\"{data_path}/silver_activities\") \\\n",
    "    .saveAsTable(\"fitbit_workshop.silver_activities\")"
   ]
  },
  {
   "cell_type": "code",
   "execution_count": 0,
   "metadata": {
    "application/vnd.databricks.v1+cell": {
     "cellMetadata": {
      "byteLimit": 2048000,
      "implicitDf": true,
      "rowLimit": 10000
     },
     "inputWidgets": {},
     "nuid": "30d18f7e-2917-49a0-a6a7-3289d953acce",
     "showTitle": false,
     "tableResultSettingsMap": {},
     "title": ""
    }
   },
   "outputs": [],
   "source": [
    "%sql\n",
    "CREATE OR REPLACE FUNCTION fitbit_workshop.calculate_pace(ms DOUBLE, km DOUBLE)\n",
    "    RETURNS DOUBLE\n",
    "    NOT DETERMINISTIC\n",
    "    CONTAINS SQL\n",
    "    COMMENT 'Returns a minute per mile double value'\n",
    "    RETURN try_divide(ms/60000,km*0.621371);"
   ]
  },
  {
   "cell_type": "code",
   "execution_count": 0,
   "metadata": {
    "application/vnd.databricks.v1+cell": {
     "cellMetadata": {
      "byteLimit": 2048000,
      "implicitDf": true,
      "rowLimit": 10000
     },
     "inputWidgets": {},
     "nuid": "def115da-51c1-498b-8080-8124ef0ae880",
     "showTitle": true,
     "tableResultSettingsMap": {},
     "title": "Simple Analysis"
    }
   },
   "outputs": [
    {
     "output_type": "display_data",
     "data": {
      "text/plain": [
       "Databricks visualization. Run in Databricks to view."
      ]
     },
     "metadata": {
      "application/vnd.databricks.v1.subcommand+json": {
       "baseErrorDetails": null,
       "bindings": {},
       "collapsed": false,
       "command": "%sql WITH q AS (select DISTINCT\ndate(startTime) as date,\nlogId, \nactivityName, \ncalories, \naverageHeartRate, \ndistance*0.621371 as miles, \nduration/60000 as min,\ncalculate_pace(duration,distance) as min_per_mile\nfrom fitbit_workshop.silver_activities) SELECT DATE_TRUNC('WEEK',`date`) `column_1683c8556`,SUM(`miles`) `column_1683c8554` FROM q GROUP BY `column_1683c8556`",
       "commandTitle": "Weekly Mileage",
       "commandType": "auto",
       "commandVersion": 0,
       "commentThread": [],
       "commentsVisible": false,
       "contentSha256Hex": null,
       "customPlotOptions": {
        "redashChart": [
         {
          "key": "type",
          "value": "CHART"
         },
         {
          "key": "options",
          "value": {
           "alignYAxesAtZero": true,
           "coefficient": 1,
           "columnConfigurationMap": {
            "x": {
             "column": "date",
             "id": "column_1683c855136",
             "transform": "MONTH_LEVEL"
            },
            "y": [
             {
              "column": "miles",
              "id": "column_1683c8554",
              "transform": "SUM"
             },
             {
              "column": "min_per_mile",
              "id": "column_1683c85514",
              "transform": "AVG"
             }
            ]
           },
           "dateTimeFormat": "DD/MM/YYYY HH:mm",
           "direction": {
            "type": "counterclockwise"
           },
           "error_y": {
            "type": "data",
            "visible": true
           },
           "globalSeriesType": "column",
           "isAggregationOn": true,
           "legend": {
            "traceorder": "normal"
           },
           "missingValuesAsZero": true,
           "numberFormat": "0,0.[]",
           "percentFormat": "0[.]00%",
           "series": {
            "error_y": {
             "type": "data",
             "visible": true
            },
            "stacking": null
           },
           "seriesOptions": {
            "column_1683c85514": {
             "type": "column",
             "yAxis": 1
            },
            "column_1683c8554": {
             "type": "column",
             "yAxis": 0
            }
           },
           "showDataLabels": false,
           "sizemode": "diameter",
           "sortX": true,
           "sortY": true,
           "swappedAxes": false,
           "textFormat": "",
           "useAggregationsUi": true,
           "valuesOptions": {},
           "version": 2,
           "xAxis": {
            "labels": {
             "enabled": true
            },
            "type": "-"
           },
           "yAxis": [
            {
             "title": {
              "text": "Miles"
             },
             "type": "-"
            },
            {
             "opposite": true,
             "title": {
              "text": "Avg Pace"
             },
             "type": "-"
            }
           ]
          }
         }
        ]
       },
       "datasetPreviewNameToCmdIdMap": {},
       "diffDeletes": [],
       "diffInserts": [],
       "displayType": "redashChart",
       "error": null,
       "errorDetails": null,
       "errorSummary": null,
       "errorTraceType": null,
       "finishTime": 0,
       "globalVars": {},
       "guid": "",
       "height": "auto",
       "hideCommandCode": false,
       "hideCommandResult": false,
       "iPythonMetadata": null,
       "inputWidgets": {},
       "isLockedInExamMode": false,
       "latestUser": "a user",
       "latestUserId": null,
       "listResultMetadata": null,
       "metadata": {},
       "nuid": "fe2f8417-6472-49e7-9fa4-bb50bebfb76e",
       "origId": 0,
       "parentHierarchy": [],
       "pivotAggregation": null,
       "pivotColumns": null,
       "position": 8.5,
       "resultDbfsErrorMessage": null,
       "resultDbfsStatus": "INLINED_IN_TREE",
       "results": null,
       "showCommandTitle": false,
       "startTime": 0,
       "state": "input",
       "streamStates": {},
       "subcommandOptions": {
        "queryPlan": {
         "groups": [
          {
           "column": "column_1683c855136",
           "type": "column"
          }
         ],
         "selects": [
          {
           "alias": "column_1683c855136",
           "args": [
            {
             "column": "date",
             "type": "column"
            },
            {
             "string": "MONTH",
             "type": "string"
            }
           ],
           "function": "DATE_TRUNC",
           "type": "function"
          },
          {
           "alias": "column_1683c8554",
           "args": [
            {
             "column": "miles",
             "type": "column"
            }
           ],
           "function": "SUM",
           "type": "function"
          },
          {
           "alias": "column_1683c85514",
           "args": [
            {
             "column": "min_per_mile",
             "type": "column"
            }
           ],
           "function": "AVG",
           "type": "function"
          }
         ]
        }
       },
       "submitTime": 0,
       "subtype": "tableResultSubCmd.visualization",
       "tableResultIndex": 0,
       "tableResultSettingsMap": {},
       "useConsistentColors": false,
       "version": "CommandV1",
       "width": "auto",
       "workflows": null,
       "xColumns": null,
       "yColumns": null
      }
     },
     "output_type": "display_data"
    }
   ],
   "source": [
    "%sql\n",
    "CREATE OR REPLACE TABLE fitbit_workshop.gold_running as (select DISTINCT\n",
    "date(startTime) as date,\n",
    "logId, \n",
    "activityName, \n",
    "calories, \n",
    "averageHeartRate, \n",
    "distance*0.621371 as miles, \n",
    "duration/60000 as min,\n",
    "calculate_pace(duration,distance) as min_per_mile\n",
    "from fitbit_workshop.silver_activities\n",
    "where activityName IN ('Run','Treadmill') AND calculate_pace(duration,distance) <=15\n",
    ");\n",
    "\n",
    "select * from fitbit_workshop.gold_running"
   ]
  },
  {
   "cell_type": "code",
   "execution_count": 0,
   "metadata": {
    "application/vnd.databricks.v1+cell": {
     "cellMetadata": {
      "byteLimit": 2048000,
      "rowLimit": 10000
     },
     "inputWidgets": {},
     "nuid": "6fb1f88e-9448-4c13-86fd-49ef2ca37ad3",
     "showTitle": true,
     "tableResultSettingsMap": {},
     "title": "There's more to Notebooks"
    }
   },
   "outputs": [],
   "source": [
    "import folium\n",
    "from folium.plugins import PolyLineTextPath\n",
    "\n",
    "df = spark.sql(\"select * from fitbit.bronze_tracking where id = '2024-10-20T09:00:57.000-04:00'\")\n",
    "\n",
    "# Convert the Spark DataFrame to a Pandas DataFrame\n",
    "route_df = df.select(\"LatitudeDegrees\", \"LongitudeDegrees\").toPandas()\n",
    "\n",
    "# Create a map centered around the first point\n",
    "m = folium.Map(location=[route_df[\"LatitudeDegrees\"].iloc[0], route_df[\"LongitudeDegrees\"].iloc[0]], zoom_start=15)\n",
    "\n",
    "# Create a list of coordinate pairs\n",
    "route = list(zip(route_df[\"LatitudeDegrees\"], route_df[\"LongitudeDegrees\"]))\n",
    "\n",
    "# Add the route to the map\n",
    "folium.PolyLine(route, color=\"blue\", weight=2.5, opacity=1).add_to(m)\n",
    "\n",
    "# Display the map\n",
    "display(m)"
   ]
  },
  {
   "cell_type": "code",
   "execution_count": 0,
   "metadata": {
    "application/vnd.databricks.v1+cell": {
     "cellMetadata": {
      "byteLimit": 2048000,
      "implicitDf": true,
      "rowLimit": 10000
     },
     "inputWidgets": {},
     "nuid": "1b232f60-e69c-4a90-bf6f-26a102b60b2b",
     "showTitle": false,
     "tableResultSettingsMap": {},
     "title": ""
    }
   },
   "outputs": [],
   "source": [
    "%sql\n",
    "select * from ahtsa.fitbit.bronze_tracking"
   ]
  },
  {
   "cell_type": "code",
   "execution_count": 0,
   "metadata": {
    "application/vnd.databricks.v1+cell": {
     "cellMetadata": {},
     "inputWidgets": {},
     "nuid": "78f29d53-98c1-406f-a4e5-77a9c3a4f854",
     "showTitle": false,
     "tableResultSettingsMap": {},
     "title": ""
    }
   },
   "outputs": [],
   "source": []
  }
 ],
 "metadata": {
  "application/vnd.databricks.v1+notebook": {
   "computePreferences": {
    "hardware": {
     "accelerator": null,
     "gpuPoolId": null,
     "memory": null
    }
   },
   "dashboards": [],
   "environmentMetadata": {
    "base_environment": "",
    "client": "1",
    "dependencies": [
     "folium"
    ]
   },
   "language": "python",
   "notebookMetadata": {
    "mostRecentlyExecutedCommandWithImplicitDF": {
     "commandId": 3582014444036639,
     "dataframes": [
      "_sqldf"
     ]
    },
    "pythonIndentUnit": 2
   },
   "notebookName": "2_tcx",
   "widgets": {}
  },
  "language_info": {
   "name": "python"
  }
 },
 "nbformat": 4,
 "nbformat_minor": 0
}
