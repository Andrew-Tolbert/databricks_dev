{
 "cells": [
  {
   "cell_type": "code",
   "execution_count": 0,
   "metadata": {
    "application/vnd.databricks.v1+cell": {
     "cellMetadata": {
      "byteLimit": 2048000,
      "rowLimit": 10000
     },
     "inputWidgets": {},
     "nuid": "44b6c5be-e713-4adc-b7a9-f34cbfa49932",
     "showTitle": false,
     "tableResultSettingsMap": {},
     "title": ""
    }
   },
   "outputs": [],
   "source": [
    "dbutils.widgets.text(\"Catalog\",\"enter a catalog\")\n",
    "dbutils.widgets.text(\"Schema\",\"enter a schema\")\n",
    "dbutils.widgets.dropdown(\"Reset_Data\", \"Y\", [\"Y\",\"N\"])"
   ]
  },
  {
   "cell_type": "code",
   "execution_count": 0,
   "metadata": {
    "application/vnd.databricks.v1+cell": {
     "cellMetadata": {
      "byteLimit": 2048000,
      "rowLimit": 10000
     },
     "inputWidgets": {},
     "nuid": "9b3eef89-2dc6-49ba-a3a2-11705bf27537",
     "showTitle": false,
     "tableResultSettingsMap": {},
     "title": ""
    }
   },
   "outputs": [],
   "source": [
    "catalog = dbutils.widgets.get(\"Catalog\")\n",
    "schema = dbutils.widgets.get(\"Schema\")\n",
    "reset_data = True if dbutils.widgets.get(\"Reset_Data\") == 'Y' else False \n",
    "reset_tables = True if dbutils.widgets.get(\"Reset_Tables\") == 'Y' else False"
   ]
  },
  {
   "cell_type": "code",
   "execution_count": 0,
   "metadata": {
    "application/vnd.databricks.v1+cell": {
     "cellMetadata": {
      "byteLimit": 2048000,
      "rowLimit": 10000
     },
     "inputWidgets": {},
     "nuid": "5651c0c4-9f29-4a01-8cc2-c0ef5ec14dc4",
     "showTitle": false,
     "tableResultSettingsMap": {},
     "title": ""
    }
   },
   "outputs": [],
   "source": [
    "volume_name = \"stream\"\n",
    "\n",
    "transaction_output = f\"/Volumes/{catalog}/{schema}/{volume_name}/stream_data/source_transactions\"\n",
    "dimension_output =  f\"/Volumes/{catalog}/{schema}/{volume_name}/stream_data/source_dimensions\"\n",
    "checkpoint = f\"/Volumes/{catalog}/{schema}/{volume_name}/stream_metadata/checkpoint\""
   ]
  },
  {
   "cell_type": "code",
   "execution_count": 0,
   "metadata": {
    "application/vnd.databricks.v1+cell": {
     "cellMetadata": {
      "byteLimit": 2048000,
      "rowLimit": 10000
     },
     "inputWidgets": {},
     "nuid": "6174c140-66d6-4712-9802-e28a2ab4886d",
     "showTitle": false,
     "tableResultSettingsMap": {},
     "title": ""
    }
   },
   "outputs": [],
   "source": [
    "%run ./0_Main"
   ]
  },
  {
   "cell_type": "code",
   "execution_count": 0,
   "metadata": {
    "application/vnd.databricks.v1+cell": {
     "cellMetadata": {
      "byteLimit": 2048000,
      "rowLimit": 10000
     },
     "inputWidgets": {},
     "nuid": "145e8660-04ce-4040-a9e9-3e67812b75bc",
     "showTitle": false,
     "tableResultSettingsMap": {},
     "title": ""
    }
   },
   "outputs": [],
   "source": [
    "\n",
    "if reset_data: \n",
    "  reset_or_init_directories(reset_all=reset_data)\n",
    "else: \n",
    "  print(\"Leaving stream data intact\")"
   ]
  },
  {
   "cell_type": "code",
   "execution_count": 0,
   "metadata": {
    "application/vnd.databricks.v1+cell": {
     "cellMetadata": {
      "byteLimit": 2048000,
      "rowLimit": 10000
     },
     "inputWidgets": {},
     "nuid": "0cde14bb-e1d8-4dfe-8e17-ca8172f1fd99",
     "showTitle": false,
     "tableResultSettingsMap": {},
     "title": ""
    }
   },
   "outputs": [],
   "source": []
  },
  {
   "cell_type": "code",
   "execution_count": 0,
   "metadata": {
    "application/vnd.databricks.v1+cell": {
     "cellMetadata": {
      "byteLimit": 2048000,
      "rowLimit": 10000
     },
     "inputWidgets": {},
     "nuid": "62fcc0fd-bca6-46d9-8e1c-a628bee5e78e",
     "showTitle": false,
     "tableResultSettingsMap": {},
     "title": ""
    }
   },
   "outputs": [],
   "source": [
    "if reset_tables:\n",
    "\n",
    "  table_list = [col[\"tableName\"] for col in spark.sql(f\"SHOW TABLES IN {catalog}.{schema}\").collect()]\n",
    "\n",
    "  drop_tables_and_checkpoints(\n",
    "    tables = table_list,\n",
    "    catalog=catalog,\n",
    "    schema=schema,\n",
    "    checkpoint_dir=checkpoint\n",
    "  )\n",
    "\n",
    "else:\n",
    "  print(\"leaving tables and checkpoints intact\")\n"
   ]
  }
 ],
 "metadata": {
  "application/vnd.databricks.v1+notebook": {
   "computePreferences": null,
   "dashboards": [],
   "environmentMetadata": {
    "base_environment": "",
    "environment_version": "2"
   },
   "language": "python",
   "notebookMetadata": {
    "pythonIndentUnit": 2,
    "widgetLayout": [
     {
      "breakBefore": false,
      "name": "Catalog",
      "width": 172
     },
     {
      "breakBefore": false,
      "name": "Schema",
      "width": 172
     },
     {
      "breakBefore": false,
      "name": "Reset_Data",
      "width": 172
     },
     {
      "breakBefore": false,
      "name": "Reset_Tables",
      "width": 172
     }
    ]
   },
   "notebookName": "z_delete_stream_data",
   "widgets": {
    "Catalog": {
     "currentValue": "ahtsa",
     "nuid": "daccc575-03a4-4bf0-aeb6-ae034b82ad43",
     "typedWidgetInfo": {
      "autoCreated": false,
      "defaultValue": "enter a catalog",
      "label": null,
      "name": "Catalog",
      "options": {
       "widgetDisplayType": "Text",
       "validationRegex": null
      },
      "parameterDataType": "String"
     },
     "widgetInfo": {
      "widgetType": "text",
      "defaultValue": "enter a catalog",
      "label": null,
      "name": "Catalog",
      "options": {
       "widgetType": "text",
       "autoCreated": null,
       "validationRegex": null
      }
     }
    },
    "Reset_Data": {
     "currentValue": "N",
     "nuid": "a39debde-193b-4f1b-b5f9-c149cbb068db",
     "typedWidgetInfo": {
      "autoCreated": false,
      "defaultValue": "Y",
      "label": null,
      "name": "Reset_Data",
      "options": {
       "widgetDisplayType": "Dropdown",
       "choices": [
        "Y",
        "N"
       ],
       "fixedDomain": true,
       "multiselect": false
      },
      "parameterDataType": "String"
     },
     "widgetInfo": {
      "widgetType": "dropdown",
      "defaultValue": "Y",
      "label": null,
      "name": "Reset_Data",
      "options": {
       "widgetType": "dropdown",
       "autoCreated": null,
       "choices": [
        "Y",
        "N"
       ]
      }
     }
    },
    "Reset_Tables": {
     "currentValue": "Y",
     "nuid": "1a7348c8-c6a8-4d12-b734-82ae122b762b",
     "typedWidgetInfo": {
      "autoCreated": false,
      "defaultValue": "N",
      "label": "",
      "name": "Reset_Tables",
      "options": {
       "widgetDisplayType": "Dropdown",
       "choices": [
        "Y",
        "N"
       ],
       "fixedDomain": true,
       "multiselect": false
      },
      "parameterDataType": "String"
     },
     "widgetInfo": {
      "widgetType": "dropdown",
      "defaultValue": "N",
      "label": "",
      "name": "Reset_Tables",
      "options": {
       "widgetType": "dropdown",
       "autoCreated": false,
       "choices": [
        "Y",
        "N"
       ]
      }
     }
    },
    "Schema": {
     "currentValue": "buildastream",
     "nuid": "084575e2-2d25-4718-84be-e2e6e41e4c2f",
     "typedWidgetInfo": {
      "autoCreated": false,
      "defaultValue": "enter a schema",
      "label": null,
      "name": "Schema",
      "options": {
       "widgetDisplayType": "Text",
       "validationRegex": null
      },
      "parameterDataType": "String"
     },
     "widgetInfo": {
      "widgetType": "text",
      "defaultValue": "enter a schema",
      "label": null,
      "name": "Schema",
      "options": {
       "widgetType": "text",
       "autoCreated": null,
       "validationRegex": null
      }
     }
    }
   }
  },
  "language_info": {
   "name": "python"
  }
 },
 "nbformat": 4,
 "nbformat_minor": 0
}
