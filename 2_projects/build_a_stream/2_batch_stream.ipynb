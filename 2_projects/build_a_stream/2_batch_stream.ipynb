{
 "cells": [
  {
   "cell_type": "code",
   "execution_count": 0,
   "metadata": {
    "application/vnd.databricks.v1+cell": {
     "cellMetadata": {
      "byteLimit": 2048000,
      "rowLimit": 10000
     },
     "inputWidgets": {},
     "nuid": "6ff55524-8c61-4079-90fd-06482349c99a",
     "showTitle": false,
     "tableResultSettingsMap": {},
     "title": ""
    }
   },
   "outputs": [],
   "source": [
    "dbutils.widgets.text(\"Catalog\",\"enter a catalog\")\n",
    "dbutils.widgets.text(\"Schema\",\"enter a schema\")"
   ]
  },
  {
   "cell_type": "code",
   "execution_count": 0,
   "metadata": {
    "application/vnd.databricks.v1+cell": {
     "cellMetadata": {
      "byteLimit": 2048000,
      "rowLimit": 10000
     },
     "inputWidgets": {},
     "nuid": "f336db6f-4108-488c-98a7-7d66096897ab",
     "showTitle": false,
     "tableResultSettingsMap": {},
     "title": ""
    }
   },
   "outputs": [],
   "source": [
    "catalog = dbutils.widgets.get(\"Catalog\")\n",
    "schema = dbutils.widgets.get(\"Schema\")"
   ]
  },
  {
   "cell_type": "code",
   "execution_count": 0,
   "metadata": {
    "application/vnd.databricks.v1+cell": {
     "cellMetadata": {
      "byteLimit": 2048000,
      "rowLimit": 10000
     },
     "inputWidgets": {},
     "nuid": "fc4e3705-8ae1-42d2-a8ac-68ba9c9b5fdc",
     "showTitle": false,
     "tableResultSettingsMap": {},
     "title": ""
    }
   },
   "outputs": [],
   "source": [
    "from pyspark.sql.functions import col, current_timestamp, date_trunc, row_number, to_timestamp\n",
    "from pyspark.sql.window import Window"
   ]
  },
  {
   "cell_type": "code",
   "execution_count": 0,
   "metadata": {
    "application/vnd.databricks.v1+cell": {
     "cellMetadata": {
      "byteLimit": 2048000,
      "rowLimit": 10000
     },
     "inputWidgets": {},
     "nuid": "4fba2337-25e0-42b3-8c9e-da7d3f9dc069",
     "showTitle": false,
     "tableResultSettingsMap": {},
     "title": ""
    }
   },
   "outputs": [],
   "source": [
    "volume_name = \"stream\"\n",
    "\n",
    "transaction_output = f\"/Volumes/{catalog}/{schema}/{volume_name}/stream_data/source_transactions\"\n",
    "dimension_output =  f\"/Volumes/{catalog}/{schema}/{volume_name}/stream_data/source_dimensions\"\n",
    "checkpoint = f\"/Volumes/{catalog}/{schema}/{volume_name}/stream_metadata/checkpoint\""
   ]
  },
  {
   "cell_type": "code",
   "execution_count": 0,
   "metadata": {
    "application/vnd.databricks.v1+cell": {
     "cellMetadata": {
      "byteLimit": 2048000,
      "rowLimit": 10000
     },
     "inputWidgets": {},
     "nuid": "2f28b3d3-12e5-4120-ac1d-e16d1f5052e4",
     "showTitle": false,
     "tableResultSettingsMap": {},
     "title": ""
    }
   },
   "outputs": [],
   "source": [
    "bronze_table = f\"{catalog}.{schema}.bronze_source_transactions\"\n",
    "\n",
    "raw_df = (spark.readStream\n",
    "    .format(\"cloudFiles\")\n",
    "    .option(\"cloudFiles.format\", \"csv\")\n",
    "    .option(\"cloudFiles.schemaLocation\", f\"{checkpoint}/{bronze_table}\")\n",
    "    .load(transaction_output)\n",
    ")"
   ]
  },
  {
   "cell_type": "code",
   "execution_count": 0,
   "metadata": {
    "application/vnd.databricks.v1+cell": {
     "cellMetadata": {
      "byteLimit": 2048000,
      "rowLimit": 10000
     },
     "inputWidgets": {},
     "nuid": "0c6b400a-ff09-4057-a917-ddb8d18620d9",
     "showTitle": false,
     "tableResultSettingsMap": {},
     "title": ""
    }
   },
   "outputs": [],
   "source": [
    "transformed_df = (raw_df.select(\n",
    "    \"*\",\n",
    "    col(\"_metadata.file_path\").alias(\"source_file\"),\n",
    "    current_timestamp().alias(\"processing_time\")\n",
    "    )\n",
    ".writeStream\n",
    "    .trigger(availableNow=True)\n",
    "    .option(\"checkpointLocation\", f\"{checkpoint}/{bronze_table}\")\n",
    "    .toTable(f\"{bronze_table}\")\n",
    ")"
   ]
  },
  {
   "cell_type": "code",
   "execution_count": 0,
   "metadata": {
    "application/vnd.databricks.v1+cell": {
     "cellMetadata": {
      "byteLimit": 2048000,
      "rowLimit": 10000
     },
     "inputWidgets": {},
     "nuid": "eab0f17d-496b-419a-a19c-899c567447d2",
     "showTitle": false,
     "tableResultSettingsMap": {},
     "title": ""
    }
   },
   "outputs": [],
   "source": [
    "from pyspark.sql.functions import to_timestamp\n",
    "\n",
    "df = spark.createDataFrame(\n",
    "    [(\"2025-02-06 04:58:04.512093\",)], \n",
    "    [\"timestamp_str\"]\n",
    ")\n",
    "df = df.withColumn(\n",
    "    \"timestamp\", \n",
    "    to_timestamp(\"timestamp_str\", \"yyyy-MM-dd HH:mm:ss.SSSSSS\")\n",
    ")\n",
    "display(df)"
   ]
  },
  {
   "cell_type": "code",
   "execution_count": 0,
   "metadata": {
    "application/vnd.databricks.v1+cell": {
     "cellMetadata": {
      "byteLimit": 2048000,
      "rowLimit": 10000
     },
     "inputWidgets": {},
     "nuid": "4a14362c-ba33-4261-ab6b-f55d38bd3a05",
     "showTitle": false,
     "tableResultSettingsMap": {},
     "title": ""
    }
   },
   "outputs": [],
   "source": [
    "silver_table = f\"{catalog}.{schema}.silver_source_transactions\"\n",
    "\n",
    "bronze_df = spark.readStream.table(bronze_table)\n",
    "\n",
    "transformed_silver_df = (bronze_df.withColumn(\"trade_hour\", date_trunc(\"hour\", col(\"timestamp\"))) \n",
    "                                 .withColumn(\"trade_day\", date_trunc(\"day\", col(\"timestamp\")))\n",
    "                                 .withColumn(\"timestamp_ts\", to_timestamp(col(\"timestamp\"), \"yyyy-MM-dd HH:mm:ss.SSSSSS\"))\n",
    ")\n",
    "\n",
    "version = 0 # use this to restart checkpoint\n",
    "\n",
    "(transformed_silver_df.writeStream\n",
    "    .trigger(availableNow=True)\n",
    "    .option(\"checkpointLocation\", f\"{checkpoint}/{silver_table}/v{version}\")\n",
    "    .option(\"mergeSchema\", \"true\")\n",
    "    .option(\"startingOffsets\", \"earliest\")\n",
    "    .table(silver_table)\n",
    ")"
   ]
  },
  {
   "cell_type": "code",
   "execution_count": 0,
   "metadata": {
    "application/vnd.databricks.v1+cell": {
     "cellMetadata": {
      "byteLimit": 2048000,
      "implicitDf": true,
      "rowLimit": 10000
     },
     "inputWidgets": {},
     "nuid": "4eb92c99-7cf4-4e8c-b4c6-e11ba6a3b7f2",
     "showTitle": false,
     "tableResultSettingsMap": {},
     "title": ""
    }
   },
   "outputs": [],
   "source": [
    "%sql\n",
    "select * from ahtsa.buildastream.silver_source_transactions"
   ]
  },
  {
   "cell_type": "code",
   "execution_count": 0,
   "metadata": {
    "application/vnd.databricks.v1+cell": {
     "cellMetadata": {
      "byteLimit": 2048000,
      "implicitDf": true,
      "rowLimit": 10000
     },
     "inputWidgets": {},
     "nuid": "9a56a857-97e9-46d5-a61b-4bf18cb1bdf5",
     "showTitle": false,
     "tableResultSettingsMap": {},
     "title": ""
    }
   },
   "outputs": [],
   "source": [
    "%sql\n",
    "select * from ahtsa.buildastream.gold_latest_trades"
   ]
  },
  {
   "cell_type": "code",
   "execution_count": 0,
   "metadata": {
    "application/vnd.databricks.v1+cell": {
     "cellMetadata": {},
     "inputWidgets": {},
     "nuid": "fc587d39-e51f-4df0-96ba-40710418d7de",
     "showTitle": false,
     "tableResultSettingsMap": {},
     "title": ""
    }
   },
   "outputs": [],
   "source": []
  }
 ],
 "metadata": {
  "application/vnd.databricks.v1+notebook": {
   "computePreferences": null,
   "dashboards": [],
   "environmentMetadata": {
    "base_environment": "",
    "environment_version": "2"
   },
   "language": "python",
   "notebookMetadata": {
    "mostRecentlyExecutedCommandWithImplicitDF": {
     "commandId": 1524276376871685,
     "dataframes": [
      "_sqldf"
     ]
    },
    "pythonIndentUnit": 2
   },
   "notebookName": "2_batch_stream",
   "widgets": {
    "Catalog": {
     "currentValue": "ahtsa",
     "nuid": "4f22cb13-f096-4b85-97ba-cb998cecfbf5",
     "typedWidgetInfo": {
      "autoCreated": false,
      "defaultValue": "enter a catalog",
      "label": null,
      "name": "Catalog",
      "options": {
       "widgetDisplayType": "Text",
       "validationRegex": null
      },
      "parameterDataType": "String"
     },
     "widgetInfo": {
      "widgetType": "text",
      "defaultValue": "enter a catalog",
      "label": null,
      "name": "Catalog",
      "options": {
       "widgetType": "text",
       "autoCreated": null,
       "validationRegex": null
      }
     }
    },
    "Schema": {
     "currentValue": "buildastream",
     "nuid": "ff559926-3d6a-49df-b32a-c03784f9ad65",
     "typedWidgetInfo": {
      "autoCreated": false,
      "defaultValue": "enter a schema",
      "label": null,
      "name": "Schema",
      "options": {
       "widgetDisplayType": "Text",
       "validationRegex": null
      },
      "parameterDataType": "String"
     },
     "widgetInfo": {
      "widgetType": "text",
      "defaultValue": "enter a schema",
      "label": null,
      "name": "Schema",
      "options": {
       "widgetType": "text",
       "autoCreated": null,
       "validationRegex": null
      }
     }
    }
   }
  },
  "language_info": {
   "name": "python"
  }
 },
 "nbformat": 4,
 "nbformat_minor": 0
}
