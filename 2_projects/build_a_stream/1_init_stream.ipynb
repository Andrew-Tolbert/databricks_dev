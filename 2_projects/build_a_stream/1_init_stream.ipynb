{
 "cells": [
  {
   "cell_type": "code",
   "execution_count": 0,
   "metadata": {
    "application/vnd.databricks.v1+cell": {
     "cellMetadata": {
      "byteLimit": 2048000,
      "rowLimit": 10000
     },
     "inputWidgets": {},
     "nuid": "44b6c5be-e713-4adc-b7a9-f34cbfa49932",
     "showTitle": false,
     "tableResultSettingsMap": {},
     "title": ""
    }
   },
   "outputs": [],
   "source": [
    "dbutils.widgets.text(\"Catalog\",\"enter a catalog\")\n",
    "dbutils.widgets.text(\"Schema\",\"enter a schema\")\n",
    "dbutils.widgets.dropdown(\"Reset_Data\", \"Y\", [\"Y\",\"N\"])\n",
    "dbutils.widgets.text(\"Total_Records_M\",\"\",\"Enter Total Rows (in Millions)\")\n",
    "dbutils.widgets.text(\"Total_Stream_Length_m\",\"\",\"Enter Total Stream Length (in Minutes)\")\n",
    "dbutils.widgets.text(\"Stream_Interval_s\",\"\", \"Enter The Time Between File Arrivals (in Seconds)\")"
   ]
  },
  {
   "cell_type": "code",
   "execution_count": 0,
   "metadata": {
    "application/vnd.databricks.v1+cell": {
     "cellMetadata": {
      "byteLimit": 2048000,
      "rowLimit": 10000
     },
     "inputWidgets": {},
     "nuid": "9b3eef89-2dc6-49ba-a3a2-11705bf27537",
     "showTitle": false,
     "tableResultSettingsMap": {},
     "title": ""
    }
   },
   "outputs": [],
   "source": [
    "catalog = dbutils.widgets.get(\"Catalog\")\n",
    "schema = dbutils.widgets.get(\"Schema\")\n",
    "total_rows_m = float(dbutils.widgets.get(\"Total_Records_M\"))\n",
    "stream_length_m = float(dbutils.widgets.get(\"Total_Stream_Length_m\"))\n",
    "stream_interval_s = int(dbutils.widgets.get(\"Stream_Interval_s\"))\n",
    "reset_data = True if dbutils.widgets.get(\"Reset_Data\") == 'Y' else False "
   ]
  },
  {
   "cell_type": "code",
   "execution_count": 0,
   "metadata": {
    "application/vnd.databricks.v1+cell": {
     "cellMetadata": {
      "byteLimit": 2048000,
      "rowLimit": 10000
     },
     "inputWidgets": {},
     "nuid": "5651c0c4-9f29-4a01-8cc2-c0ef5ec14dc4",
     "showTitle": false,
     "tableResultSettingsMap": {},
     "title": ""
    }
   },
   "outputs": [],
   "source": [
    "volume_name = \"stream\"\n",
    "\n",
    "transaction_output = f\"/Volumes/{catalog}/{schema}/{volume_name}/stream_data/source_transactions\"\n",
    "dimension_output =  f\"/Volumes/{catalog}/{schema}/{volume_name}/stream_data/source_dimensions\"\n",
    "checkpoint = f\"/Volumes/{catalog}/{schema}/{volume_name}/stream_metadata/checkpoint\""
   ]
  },
  {
   "cell_type": "code",
   "execution_count": 0,
   "metadata": {
    "application/vnd.databricks.v1+cell": {
     "cellMetadata": {
      "byteLimit": 2048000,
      "rowLimit": 10000
     },
     "inputWidgets": {},
     "nuid": "6174c140-66d6-4712-9802-e28a2ab4886d",
     "showTitle": false,
     "tableResultSettingsMap": {},
     "title": ""
    }
   },
   "outputs": [],
   "source": [
    "%run ./0_Main"
   ]
  },
  {
   "cell_type": "code",
   "execution_count": 0,
   "metadata": {
    "application/vnd.databricks.v1+cell": {
     "cellMetadata": {
      "byteLimit": 2048000,
      "rowLimit": 10000
     },
     "inputWidgets": {},
     "nuid": "145e8660-04ce-4040-a9e9-3e67812b75bc",
     "showTitle": false,
     "tableResultSettingsMap": {},
     "title": ""
    }
   },
   "outputs": [],
   "source": [
    "build_a_stream(total_rows_m = total_rows_m,stream_length_m=stream_length_m,interval_s=stream_interval_s,reset_data=reset_data)"
   ]
  }
 ],
 "metadata": {
  "application/vnd.databricks.v1+notebook": {
   "computePreferences": null,
   "dashboards": [],
   "environmentMetadata": {
    "base_environment": "",
    "environment_version": "2"
   },
   "language": "python",
   "notebookMetadata": {
    "pythonIndentUnit": 2,
    "widgetLayout": [
     {
      "breakBefore": false,
      "name": "Catalog",
      "width": 172
     },
     {
      "breakBefore": false,
      "name": "Schema",
      "width": 172
     },
     {
      "breakBefore": false,
      "name": "Reset_Data",
      "width": 172
     },
     {
      "breakBefore": false,
      "name": "Total_Records_M",
      "width": 172
     },
     {
      "breakBefore": false,
      "name": "Total_Stream_Length_m",
      "width": 172
     },
     {
      "breakBefore": false,
      "name": "Stream_Interval_s",
      "width": 172
     }
    ]
   },
   "notebookName": "1_init_stream",
   "widgets": {
    "Catalog": {
     "currentValue": "enter a catalog",
     "nuid": "daccc575-03a4-4bf0-aeb6-ae034b82ad43",
     "typedWidgetInfo": {
      "autoCreated": false,
      "defaultValue": "enter a catalog",
      "label": null,
      "name": "Catalog",
      "options": {
       "widgetDisplayType": "Text",
       "validationRegex": null
      },
      "parameterDataType": "String"
     },
     "widgetInfo": {
      "widgetType": "text",
      "defaultValue": "enter a catalog",
      "label": null,
      "name": "Catalog",
      "options": {
       "widgetType": "text",
       "autoCreated": null,
       "validationRegex": null
      }
     }
    },
    "Reset_Data": {
     "currentValue": "Y",
     "nuid": "a39debde-193b-4f1b-b5f9-c149cbb068db",
     "typedWidgetInfo": {
      "autoCreated": false,
      "defaultValue": "Y",
      "label": null,
      "name": "Reset_Data",
      "options": {
       "widgetDisplayType": "Dropdown",
       "choices": [
        "Y",
        "N"
       ],
       "fixedDomain": true,
       "multiselect": false
      },
      "parameterDataType": "String"
     },
     "widgetInfo": {
      "widgetType": "dropdown",
      "defaultValue": "Y",
      "label": null,
      "name": "Reset_Data",
      "options": {
       "widgetType": "dropdown",
       "autoCreated": null,
       "choices": [
        "Y",
        "N"
       ]
      }
     }
    },
    "Schema": {
     "currentValue": "enter a schema",
     "nuid": "084575e2-2d25-4718-84be-e2e6e41e4c2f",
     "typedWidgetInfo": {
      "autoCreated": false,
      "defaultValue": "enter a schema",
      "label": null,
      "name": "Schema",
      "options": {
       "widgetDisplayType": "Text",
       "validationRegex": null
      },
      "parameterDataType": "String"
     },
     "widgetInfo": {
      "widgetType": "text",
      "defaultValue": "enter a schema",
      "label": null,
      "name": "Schema",
      "options": {
       "widgetType": "text",
       "autoCreated": null,
       "validationRegex": null
      }
     }
    },
    "Stream_Interval_s": {
     "currentValue": "",
     "nuid": "2f5f2b44-c6ac-4d68-8d61-5697851eec63",
     "typedWidgetInfo": {
      "autoCreated": false,
      "defaultValue": "",
      "label": "Enter The Time Between File Arrivals (in Seconds)",
      "name": "Stream_Interval_s",
      "options": {
       "widgetDisplayType": "Text",
       "validationRegex": null
      },
      "parameterDataType": "String"
     },
     "widgetInfo": {
      "widgetType": "text",
      "defaultValue": "",
      "label": "Enter The Time Between File Arrivals (in Seconds)",
      "name": "Stream_Interval_s",
      "options": {
       "widgetType": "text",
       "autoCreated": null,
       "validationRegex": null
      }
     }
    },
    "Total_Records_M": {
     "currentValue": "",
     "nuid": "94e730f8-c69e-4234-bdba-f8e401d85838",
     "typedWidgetInfo": {
      "autoCreated": false,
      "defaultValue": "",
      "label": "Enter Total Rows (in Millions)",
      "name": "Total_Records_M",
      "options": {
       "widgetDisplayType": "Text",
       "validationRegex": null
      },
      "parameterDataType": "String"
     },
     "widgetInfo": {
      "widgetType": "text",
      "defaultValue": "",
      "label": "Enter Total Rows (in Millions)",
      "name": "Total_Records_M",
      "options": {
       "widgetType": "text",
       "autoCreated": null,
       "validationRegex": null
      }
     }
    },
    "Total_Stream_Length_m": {
     "currentValue": "",
     "nuid": "04027e48-e6c6-49c1-9c42-16588ef4df44",
     "typedWidgetInfo": {
      "autoCreated": false,
      "defaultValue": "",
      "label": "Enter Total Stream Length (in Minutes)",
      "name": "Total_Stream_Length_m",
      "options": {
       "widgetDisplayType": "Text",
       "validationRegex": null
      },
      "parameterDataType": "String"
     },
     "widgetInfo": {
      "widgetType": "text",
      "defaultValue": "",
      "label": "Enter Total Stream Length (in Minutes)",
      "name": "Total_Stream_Length_m",
      "options": {
       "widgetType": "text",
       "autoCreated": null,
       "validationRegex": null
      }
     }
    }
   }
  },
  "language_info": {
   "name": "python"
  }
 },
 "nbformat": 4,
 "nbformat_minor": 0
}
